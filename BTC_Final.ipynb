{
 "cells": [
  {
   "cell_type": "markdown",
   "metadata": {},
   "source": [
    "### Import necessary libraries"
   ]
  },
  {
   "cell_type": "code",
   "execution_count": 1,
   "metadata": {},
   "outputs": [],
   "source": [
    "import requests\n",
    "import json\n",
    "import numpy as np\n",
    "import pandas as pd\n",
    "import seaborn as sb\n",
    "import matplotlib.pyplot as plt\n",
    "import matplotlib.dates as mdates\n",
    "# from fbprophet import Prophet\n",
    "from sklearn.metrics import mean_squared_error, mean_absolute_error\n",
    "from sklearn.model_selection import TimeSeriesSplit\n",
    "from sklearn.preprocessing import MinMaxScaler\n",
    "plt.style.use('fivethirtyeight') # For plots\n",
    "sb.set()"
   ]
  },
  {
   "cell_type": "markdown",
   "metadata": {},
   "source": [
    "### Extracting Data"
   ]
  },
  {
   "cell_type": "markdown",
   "metadata": {},
   "source": [
    "Here, we extract the data we want to explore. <br>\n",
    "1. **Bitcoin** <br>\n",
    "2. **Dogecoin** <br>"
   ]
  },
  {
   "cell_type": "code",
   "execution_count": 2,
   "metadata": {},
   "outputs": [],
   "source": [
    "api_key = '925GOXIZ940U7PA6'\n",
    "function = 'DIGITAL_CURRENCY_DAILY'\n",
    "symbol = 'DOGE'\n",
    "market = 'SGD'\n",
    "url = f'https://www.alphavantage.co/query?function={function}&symbol={symbol}&market={market}&apikey={api_key}'\n",
    "\n",
    "response_Doge = requests.get(url)\n",
    "response_Doge = response_Doge.json()"
   ]
  },
  {
   "cell_type": "code",
   "execution_count": 3,
   "metadata": {},
   "outputs": [],
   "source": [
    "api_key = '925GOXIZ940U7PA6'\n",
    "function = 'DIGITAL_CURRENCY_DAILY'\n",
    "symbol = 'BTC'\n",
    "market = 'SGD'\n",
    "url = f'https://www.alphavantage.co/query?function={function}&symbol={symbol}&market={market}&apikey={api_key}'\n",
    "\n",
    "response_BTC = requests.get(url)\n",
    "response_BTC = response_BTC.json()"
   ]
  },
  {
   "cell_type": "markdown",
   "metadata": {},
   "source": [
    "### Data Cleaning on Bitcoin & Dogecoin"
   ]
  },
  {
   "cell_type": "code",
   "execution_count": 4,
   "metadata": {},
   "outputs": [],
   "source": [
    "BTC_resp = response_BTC['Time Series (Digital Currency Daily)']\n",
    "BTC_resp = pd.DataFrame(BTC_resp)\n",
    "BTC_resp = BTC_resp.T\n",
    "BTC_resp.reset_index(level = 0, inplace=True)\n",
    "BTC_resp.rename(columns={'index':'Date'}, inplace=True)\n",
    "\n",
    "Doge_resp = response_Doge['Time Series (Digital Currency Daily)']\n",
    "Doge_resp = pd.DataFrame(Doge_resp)\n",
    "Doge_resp = Doge_resp.T\n",
    "Doge_resp.reset_index(level = 0, inplace=True)\n",
    "Doge_resp.rename(columns={'index':'Date'}, inplace=True)"
   ]
  },
  {
   "cell_type": "code",
   "execution_count": 5,
   "metadata": {},
   "outputs": [
    {
     "data": {
      "text/html": [
       "<div>\n",
       "<style scoped>\n",
       "    .dataframe tbody tr th:only-of-type {\n",
       "        vertical-align: middle;\n",
       "    }\n",
       "\n",
       "    .dataframe tbody tr th {\n",
       "        vertical-align: top;\n",
       "    }\n",
       "\n",
       "    .dataframe thead th {\n",
       "        text-align: right;\n",
       "    }\n",
       "</style>\n",
       "<table border=\"1\" class=\"dataframe\">\n",
       "  <thead>\n",
       "    <tr style=\"text-align: right;\">\n",
       "      <th></th>\n",
       "      <th>Date</th>\n",
       "      <th>1a. open (SGD)</th>\n",
       "      <th>1b. open (USD)</th>\n",
       "      <th>2a. high (SGD)</th>\n",
       "      <th>2b. high (USD)</th>\n",
       "      <th>3a. low (SGD)</th>\n",
       "      <th>3b. low (USD)</th>\n",
       "      <th>4a. close (SGD)</th>\n",
       "      <th>4b. close (USD)</th>\n",
       "      <th>5. volume</th>\n",
       "      <th>6. market cap (USD)</th>\n",
       "    </tr>\n",
       "  </thead>\n",
       "  <tbody>\n",
       "    <tr>\n",
       "      <th>0</th>\n",
       "      <td>2021-07-05</td>\n",
       "      <td>47442.77349720</td>\n",
       "      <td>35288.13000000</td>\n",
       "      <td>47450.36958320</td>\n",
       "      <td>35293.78000000</td>\n",
       "      <td>45710.96000000</td>\n",
       "      <td>34000.00000000</td>\n",
       "      <td>46096.89494640</td>\n",
       "      <td>34287.06000000</td>\n",
       "      <td>27861.88816000</td>\n",
       "      <td>27861.88816000</td>\n",
       "    </tr>\n",
       "    <tr>\n",
       "      <th>1</th>\n",
       "      <td>2021-07-04</td>\n",
       "      <td>46610.55169280</td>\n",
       "      <td>34669.12000000</td>\n",
       "      <td>48356.61625400</td>\n",
       "      <td>35967.85000000</td>\n",
       "      <td>46191.12674600</td>\n",
       "      <td>34357.15000000</td>\n",
       "      <td>47440.59550440</td>\n",
       "      <td>35286.51000000</td>\n",
       "      <td>43703.47578900</td>\n",
       "      <td>43703.47578900</td>\n",
       "    </tr>\n",
       "    <tr>\n",
       "      <th>2</th>\n",
       "      <td>2021-07-03</td>\n",
       "      <td>45423.97583760</td>\n",
       "      <td>33786.54000000</td>\n",
       "      <td>46982.27590840</td>\n",
       "      <td>34945.61000000</td>\n",
       "      <td>44792.34448120</td>\n",
       "      <td>33316.73000000</td>\n",
       "      <td>46610.56513720</td>\n",
       "      <td>34669.13000000</td>\n",
       "      <td>43044.57864100</td>\n",
       "      <td>43044.57864100</td>\n",
       "    </tr>\n",
       "    <tr>\n",
       "      <th>3</th>\n",
       "      <td>2021-07-02</td>\n",
       "      <td>45041.87254520</td>\n",
       "      <td>33502.33000000</td>\n",
       "      <td>45680.09165760</td>\n",
       "      <td>33977.04000000</td>\n",
       "      <td>43961.84356000</td>\n",
       "      <td>32699.00000000</td>\n",
       "      <td>45423.98928200</td>\n",
       "      <td>33786.55000000</td>\n",
       "      <td>56172.18137800</td>\n",
       "      <td>56172.18137800</td>\n",
       "    </tr>\n",
       "    <tr>\n",
       "      <th>4</th>\n",
       "      <td>2021-07-01</td>\n",
       "      <td>47115.89980000</td>\n",
       "      <td>35045.00000000</td>\n",
       "      <td>47132.79941080</td>\n",
       "      <td>35057.57000000</td>\n",
       "      <td>43977.97684000</td>\n",
       "      <td>32711.00000000</td>\n",
       "      <td>45045.04542360</td>\n",
       "      <td>33504.69000000</td>\n",
       "      <td>71708.26611200</td>\n",
       "      <td>71708.26611200</td>\n",
       "    </tr>\n",
       "  </tbody>\n",
       "</table>\n",
       "</div>"
      ],
      "text/plain": [
       "         Date  1a. open (SGD)  1b. open (USD)  2a. high (SGD)  2b. high (USD)  \\\n",
       "0  2021-07-05  47442.77349720  35288.13000000  47450.36958320  35293.78000000   \n",
       "1  2021-07-04  46610.55169280  34669.12000000  48356.61625400  35967.85000000   \n",
       "2  2021-07-03  45423.97583760  33786.54000000  46982.27590840  34945.61000000   \n",
       "3  2021-07-02  45041.87254520  33502.33000000  45680.09165760  33977.04000000   \n",
       "4  2021-07-01  47115.89980000  35045.00000000  47132.79941080  35057.57000000   \n",
       "\n",
       "    3a. low (SGD)   3b. low (USD) 4a. close (SGD) 4b. close (USD)  \\\n",
       "0  45710.96000000  34000.00000000  46096.89494640  34287.06000000   \n",
       "1  46191.12674600  34357.15000000  47440.59550440  35286.51000000   \n",
       "2  44792.34448120  33316.73000000  46610.56513720  34669.13000000   \n",
       "3  43961.84356000  32699.00000000  45423.98928200  33786.55000000   \n",
       "4  43977.97684000  32711.00000000  45045.04542360  33504.69000000   \n",
       "\n",
       "        5. volume 6. market cap (USD)  \n",
       "0  27861.88816000      27861.88816000  \n",
       "1  43703.47578900      43703.47578900  \n",
       "2  43044.57864100      43044.57864100  \n",
       "3  56172.18137800      56172.18137800  \n",
       "4  71708.26611200      71708.26611200  "
      ]
     },
     "execution_count": 5,
     "metadata": {},
     "output_type": "execute_result"
    }
   ],
   "source": [
    "BTC_resp.head()"
   ]
  },
  {
   "cell_type": "code",
   "execution_count": 6,
   "metadata": {},
   "outputs": [
    {
     "data": {
      "text/html": [
       "<div>\n",
       "<style scoped>\n",
       "    .dataframe tbody tr th:only-of-type {\n",
       "        vertical-align: middle;\n",
       "    }\n",
       "\n",
       "    .dataframe tbody tr th {\n",
       "        vertical-align: top;\n",
       "    }\n",
       "\n",
       "    .dataframe thead th {\n",
       "        text-align: right;\n",
       "    }\n",
       "</style>\n",
       "<table border=\"1\" class=\"dataframe\">\n",
       "  <thead>\n",
       "    <tr style=\"text-align: right;\">\n",
       "      <th></th>\n",
       "      <th>Date</th>\n",
       "      <th>1a. open (SGD)</th>\n",
       "      <th>1b. open (USD)</th>\n",
       "      <th>2a. high (SGD)</th>\n",
       "      <th>2b. high (USD)</th>\n",
       "      <th>3a. low (SGD)</th>\n",
       "      <th>3b. low (USD)</th>\n",
       "      <th>4a. close (SGD)</th>\n",
       "      <th>4b. close (USD)</th>\n",
       "      <th>5. volume</th>\n",
       "      <th>6. market cap (USD)</th>\n",
       "    </tr>\n",
       "  </thead>\n",
       "  <tbody>\n",
       "    <tr>\n",
       "      <th>0</th>\n",
       "      <td>2021-07-05</td>\n",
       "      <td>0.33121624</td>\n",
       "      <td>0.24636000</td>\n",
       "      <td>0.33476556</td>\n",
       "      <td>0.24900000</td>\n",
       "      <td>0.32247738</td>\n",
       "      <td>0.23986000</td>\n",
       "      <td>0.32660481</td>\n",
       "      <td>0.24293000</td>\n",
       "      <td>424332505.39999998</td>\n",
       "      <td>424332505.39999998</td>\n",
       "    </tr>\n",
       "    <tr>\n",
       "      <th>1</th>\n",
       "      <td>2021-07-04</td>\n",
       "      <td>0.33118935</td>\n",
       "      <td>0.24634000</td>\n",
       "      <td>0.34014332</td>\n",
       "      <td>0.25300000</td>\n",
       "      <td>0.32702159</td>\n",
       "      <td>0.24324000</td>\n",
       "      <td>0.33131035</td>\n",
       "      <td>0.24643000</td>\n",
       "      <td>823044174.70000005</td>\n",
       "      <td>823044174.70000005</td>\n",
       "    </tr>\n",
       "    <tr>\n",
       "      <th>2</th>\n",
       "      <td>2021-07-03</td>\n",
       "      <td>0.32936091</td>\n",
       "      <td>0.24498000</td>\n",
       "      <td>0.33663433</td>\n",
       "      <td>0.25039000</td>\n",
       "      <td>0.32535448</td>\n",
       "      <td>0.24200000</td>\n",
       "      <td>0.33121624</td>\n",
       "      <td>0.24636000</td>\n",
       "      <td>759251070.10000002</td>\n",
       "      <td>759251070.10000002</td>\n",
       "    </tr>\n",
       "    <tr>\n",
       "      <th>3</th>\n",
       "      <td>2021-07-02</td>\n",
       "      <td>0.32777447</td>\n",
       "      <td>0.24380000</td>\n",
       "      <td>0.33498067</td>\n",
       "      <td>0.24916000</td>\n",
       "      <td>0.32050105</td>\n",
       "      <td>0.23839000</td>\n",
       "      <td>0.32945502</td>\n",
       "      <td>0.24505000</td>\n",
       "      <td>1081847381.59999990</td>\n",
       "      <td>1081847381.59999990</td>\n",
       "    </tr>\n",
       "    <tr>\n",
       "      <th>4</th>\n",
       "      <td>2021-07-01</td>\n",
       "      <td>0.34135332</td>\n",
       "      <td>0.25390000</td>\n",
       "      <td>0.35143662</td>\n",
       "      <td>0.26140000</td>\n",
       "      <td>0.32020527</td>\n",
       "      <td>0.23817000</td>\n",
       "      <td>0.32778792</td>\n",
       "      <td>0.24381000</td>\n",
       "      <td>2253058516.90000010</td>\n",
       "      <td>2253058516.90000010</td>\n",
       "    </tr>\n",
       "  </tbody>\n",
       "</table>\n",
       "</div>"
      ],
      "text/plain": [
       "         Date 1a. open (SGD) 1b. open (USD) 2a. high (SGD) 2b. high (USD)  \\\n",
       "0  2021-07-05     0.33121624     0.24636000     0.33476556     0.24900000   \n",
       "1  2021-07-04     0.33118935     0.24634000     0.34014332     0.25300000   \n",
       "2  2021-07-03     0.32936091     0.24498000     0.33663433     0.25039000   \n",
       "3  2021-07-02     0.32777447     0.24380000     0.33498067     0.24916000   \n",
       "4  2021-07-01     0.34135332     0.25390000     0.35143662     0.26140000   \n",
       "\n",
       "  3a. low (SGD) 3b. low (USD) 4a. close (SGD) 4b. close (USD)  \\\n",
       "0    0.32247738    0.23986000      0.32660481      0.24293000   \n",
       "1    0.32702159    0.24324000      0.33131035      0.24643000   \n",
       "2    0.32535448    0.24200000      0.33121624      0.24636000   \n",
       "3    0.32050105    0.23839000      0.32945502      0.24505000   \n",
       "4    0.32020527    0.23817000      0.32778792      0.24381000   \n",
       "\n",
       "             5. volume  6. market cap (USD)  \n",
       "0   424332505.39999998   424332505.39999998  \n",
       "1   823044174.70000005   823044174.70000005  \n",
       "2   759251070.10000002   759251070.10000002  \n",
       "3  1081847381.59999990  1081847381.59999990  \n",
       "4  2253058516.90000010  2253058516.90000010  "
      ]
     },
     "execution_count": 6,
     "metadata": {},
     "output_type": "execute_result"
    }
   ],
   "source": [
    "Doge_resp.head()"
   ]
  },
  {
   "cell_type": "markdown",
   "metadata": {},
   "source": [
    "We are not interested in the `Volume` and `Market Cap`. Therefore we drop them. <br>\n",
    "Also, we drop all `USD` values as we want to base on `SGD` values."
   ]
  },
  {
   "cell_type": "code",
   "execution_count": 7,
   "metadata": {},
   "outputs": [],
   "source": [
    "BTC_resp = BTC_resp.drop(['5. volume', '6. market cap (USD)', '1b. open (USD)', '2b. high (USD)', '3b. low (USD)', '4b. close (USD)'], axis=1)\n",
    "Doge_resp = Doge_resp.drop(['5. volume', '6. market cap (USD)', '1b. open (USD)', '2b. high (USD)', '3b. low (USD)', '4b. close (USD)'], axis=1)"
   ]
  },
  {
   "cell_type": "code",
   "execution_count": 8,
   "metadata": {},
   "outputs": [
    {
     "data": {
      "text/html": [
       "<div>\n",
       "<style scoped>\n",
       "    .dataframe tbody tr th:only-of-type {\n",
       "        vertical-align: middle;\n",
       "    }\n",
       "\n",
       "    .dataframe tbody tr th {\n",
       "        vertical-align: top;\n",
       "    }\n",
       "\n",
       "    .dataframe thead th {\n",
       "        text-align: right;\n",
       "    }\n",
       "</style>\n",
       "<table border=\"1\" class=\"dataframe\">\n",
       "  <thead>\n",
       "    <tr style=\"text-align: right;\">\n",
       "      <th></th>\n",
       "      <th>Date</th>\n",
       "      <th>1a. open (SGD)</th>\n",
       "      <th>2a. high (SGD)</th>\n",
       "      <th>3a. low (SGD)</th>\n",
       "      <th>4a. close (SGD)</th>\n",
       "    </tr>\n",
       "  </thead>\n",
       "  <tbody>\n",
       "    <tr>\n",
       "      <th>0</th>\n",
       "      <td>2021-07-05</td>\n",
       "      <td>47442.77349720</td>\n",
       "      <td>47450.36958320</td>\n",
       "      <td>45710.96000000</td>\n",
       "      <td>46096.89494640</td>\n",
       "    </tr>\n",
       "    <tr>\n",
       "      <th>1</th>\n",
       "      <td>2021-07-04</td>\n",
       "      <td>46610.55169280</td>\n",
       "      <td>48356.61625400</td>\n",
       "      <td>46191.12674600</td>\n",
       "      <td>47440.59550440</td>\n",
       "    </tr>\n",
       "    <tr>\n",
       "      <th>2</th>\n",
       "      <td>2021-07-03</td>\n",
       "      <td>45423.97583760</td>\n",
       "      <td>46982.27590840</td>\n",
       "      <td>44792.34448120</td>\n",
       "      <td>46610.56513720</td>\n",
       "    </tr>\n",
       "    <tr>\n",
       "      <th>3</th>\n",
       "      <td>2021-07-02</td>\n",
       "      <td>45041.87254520</td>\n",
       "      <td>45680.09165760</td>\n",
       "      <td>43961.84356000</td>\n",
       "      <td>45423.98928200</td>\n",
       "    </tr>\n",
       "    <tr>\n",
       "      <th>4</th>\n",
       "      <td>2021-07-01</td>\n",
       "      <td>47115.89980000</td>\n",
       "      <td>47132.79941080</td>\n",
       "      <td>43977.97684000</td>\n",
       "      <td>45045.04542360</td>\n",
       "    </tr>\n",
       "  </tbody>\n",
       "</table>\n",
       "</div>"
      ],
      "text/plain": [
       "         Date  1a. open (SGD)  2a. high (SGD)   3a. low (SGD) 4a. close (SGD)\n",
       "0  2021-07-05  47442.77349720  47450.36958320  45710.96000000  46096.89494640\n",
       "1  2021-07-04  46610.55169280  48356.61625400  46191.12674600  47440.59550440\n",
       "2  2021-07-03  45423.97583760  46982.27590840  44792.34448120  46610.56513720\n",
       "3  2021-07-02  45041.87254520  45680.09165760  43961.84356000  45423.98928200\n",
       "4  2021-07-01  47115.89980000  47132.79941080  43977.97684000  45045.04542360"
      ]
     },
     "execution_count": 8,
     "metadata": {},
     "output_type": "execute_result"
    }
   ],
   "source": [
    "BTC_resp.head()"
   ]
  },
  {
   "cell_type": "code",
   "execution_count": 9,
   "metadata": {},
   "outputs": [
    {
     "data": {
      "text/html": [
       "<div>\n",
       "<style scoped>\n",
       "    .dataframe tbody tr th:only-of-type {\n",
       "        vertical-align: middle;\n",
       "    }\n",
       "\n",
       "    .dataframe tbody tr th {\n",
       "        vertical-align: top;\n",
       "    }\n",
       "\n",
       "    .dataframe thead th {\n",
       "        text-align: right;\n",
       "    }\n",
       "</style>\n",
       "<table border=\"1\" class=\"dataframe\">\n",
       "  <thead>\n",
       "    <tr style=\"text-align: right;\">\n",
       "      <th></th>\n",
       "      <th>Date</th>\n",
       "      <th>1a. open (SGD)</th>\n",
       "      <th>2a. high (SGD)</th>\n",
       "      <th>3a. low (SGD)</th>\n",
       "      <th>4a. close (SGD)</th>\n",
       "    </tr>\n",
       "  </thead>\n",
       "  <tbody>\n",
       "    <tr>\n",
       "      <th>0</th>\n",
       "      <td>2021-07-05</td>\n",
       "      <td>0.33121624</td>\n",
       "      <td>0.33476556</td>\n",
       "      <td>0.32247738</td>\n",
       "      <td>0.32660481</td>\n",
       "    </tr>\n",
       "    <tr>\n",
       "      <th>1</th>\n",
       "      <td>2021-07-04</td>\n",
       "      <td>0.33118935</td>\n",
       "      <td>0.34014332</td>\n",
       "      <td>0.32702159</td>\n",
       "      <td>0.33131035</td>\n",
       "    </tr>\n",
       "    <tr>\n",
       "      <th>2</th>\n",
       "      <td>2021-07-03</td>\n",
       "      <td>0.32936091</td>\n",
       "      <td>0.33663433</td>\n",
       "      <td>0.32535448</td>\n",
       "      <td>0.33121624</td>\n",
       "    </tr>\n",
       "    <tr>\n",
       "      <th>3</th>\n",
       "      <td>2021-07-02</td>\n",
       "      <td>0.32777447</td>\n",
       "      <td>0.33498067</td>\n",
       "      <td>0.32050105</td>\n",
       "      <td>0.32945502</td>\n",
       "    </tr>\n",
       "    <tr>\n",
       "      <th>4</th>\n",
       "      <td>2021-07-01</td>\n",
       "      <td>0.34135332</td>\n",
       "      <td>0.35143662</td>\n",
       "      <td>0.32020527</td>\n",
       "      <td>0.32778792</td>\n",
       "    </tr>\n",
       "  </tbody>\n",
       "</table>\n",
       "</div>"
      ],
      "text/plain": [
       "         Date 1a. open (SGD) 2a. high (SGD) 3a. low (SGD) 4a. close (SGD)\n",
       "0  2021-07-05     0.33121624     0.33476556    0.32247738      0.32660481\n",
       "1  2021-07-04     0.33118935     0.34014332    0.32702159      0.33131035\n",
       "2  2021-07-03     0.32936091     0.33663433    0.32535448      0.33121624\n",
       "3  2021-07-02     0.32777447     0.33498067    0.32050105      0.32945502\n",
       "4  2021-07-01     0.34135332     0.35143662    0.32020527      0.32778792"
      ]
     },
     "execution_count": 9,
     "metadata": {},
     "output_type": "execute_result"
    }
   ],
   "source": [
    "Doge_resp.head()"
   ]
  },
  {
   "cell_type": "markdown",
   "metadata": {},
   "source": [
    "We convert the Date column to a `datetime` format, and convert the rest of the columns to `float` as they are currently typed as an object."
   ]
  },
  {
   "cell_type": "code",
   "execution_count": 10,
   "metadata": {},
   "outputs": [
    {
     "name": "stdout",
     "output_type": "stream",
     "text": [
      "1a. open (SGD)\n",
      "2a. high (SGD)\n",
      "3a. low (SGD)\n",
      "4a. close (SGD)\n"
     ]
    }
   ],
   "source": [
    "for i in BTC_resp.columns[1:]:\n",
    "    print(i)"
   ]
  },
  {
   "cell_type": "code",
   "execution_count": null,
   "metadata": {},
   "outputs": [],
   "source": [
    "BTC_resp.Date = pd.to_datetime(BTC_resp.Date, format = '%Y/%m/%d')\n",
    "for colName in BTC_resp.columns[1:]:\n",
    "    BTC_resp[str(colName)] = BTC_resp[str(colName)].astype(float)\n",
    "    \n",
    "Doge_resp.Date = pd.to_datetime(Doge_resp.Date, format = '%Y/%m/%d')\n",
    "for colName in Doge_resp.columns[1:]:\n",
    "    Doge_resp[str(colName)] = Doge_resp[str(colName)].astype(float)"
   ]
  },
  {
   "cell_type": "code",
   "execution_count": null,
   "metadata": {},
   "outputs": [],
   "source": [
    "BTC_resp.info()"
   ]
  },
  {
   "cell_type": "code",
   "execution_count": null,
   "metadata": {},
   "outputs": [],
   "source": [
    "Doge_resp.info()"
   ]
  },
  {
   "cell_type": "markdown",
   "metadata": {},
   "source": [
    "Now that we have the Data prepared in the formats we want, we can perfom some EDA on the Data."
   ]
  },
  {
   "cell_type": "code",
   "execution_count": null,
   "metadata": {},
   "outputs": [],
   "source": [
    "def showPlot(df):\n",
    "    plt.figure(figsize=(24,12))\n",
    "    sb.lineplot(data=df, x=df['Date'], y=df['1a. open (SGD)'], label='Open')\n",
    "    sb.lineplot(data=df, x=df['Date'], y=df['2a. high (SGD)'], label='High', color='g')\n",
    "    sb.lineplot(data=df, x=df['Date'], y=df['3a. low (SGD)'], label='Low', color='orange')\n",
    "    sb.lineplot(data=df, x=df['Date'], y=df['4a. close (SGD)'], label='Close', color='r')\n",
    "    plt.xlabel(\"Date\")\n",
    "    plt.ylabel(\"Price\")\n",
    "    ax = plt.gca()\n",
    "    ax.xaxis.set_major_locator(mdates.MonthLocator(interval=2))\n",
    "    ax.xaxis.set_major_formatter(mdates.DateFormatter(\"%d-%m-%y\"))\n",
    "    plt.gcf().autofmt_xdate()\n",
    "    plt.show()"
   ]
  },
  {
   "cell_type": "code",
   "execution_count": null,
   "metadata": {},
   "outputs": [],
   "source": [
    "showPlot(BTC_resp)"
   ]
  },
  {
   "cell_type": "code",
   "execution_count": null,
   "metadata": {},
   "outputs": [],
   "source": [
    "showPlot(Doge_resp)"
   ]
  },
  {
   "cell_type": "code",
   "execution_count": null,
   "metadata": {
    "scrolled": true
   },
   "outputs": [],
   "source": [
    "BTC_resp.describe()"
   ]
  },
  {
   "cell_type": "code",
   "execution_count": null,
   "metadata": {},
   "outputs": [],
   "source": [
    "Doge_resp.describe()"
   ]
  },
  {
   "cell_type": "markdown",
   "metadata": {},
   "source": [
    "We want to see the correlation between Bitcoin and Dogecoin... <br>\n",
    "We decided to stick with one variable which was the opening price. <br>\n",
    "Hence we dropped all columns except for the Date and Open columns."
   ]
  },
  {
   "cell_type": "code",
   "execution_count": null,
   "metadata": {},
   "outputs": [],
   "source": [
    "response_Doge = response_Doge['Time Series (Digital Currency Daily)']\n",
    "df_Doge = pd.DataFrame(response_Doge)\n",
    "df_Doge = df_Doge.T\n",
    "df_Doge.reset_index(level = 0, inplace=True)\n",
    "\n",
    "df_Doge = df_Doge.drop(['1b. open (USD)', '2a. high (SGD)', '2b. high (USD)', '3a. low (SGD)', '3b. low (USD)', '4a. close (SGD)', '4b. close (USD)', '5. volume', '6. market cap (USD)'], axis=1)\n",
    "df_Doge.columns = ['Date' , 'Open (Doge)']\n",
    "df_Doge.Date = pd.to_datetime(df_Doge.Date, format = '%Y/%m/%d')\n",
    "df_Doge['Open (Doge)'] = df_Doge['Open (Doge)'].astype(float)\n",
    "\n",
    "response_BTC = response_BTC['Time Series (Digital Currency Daily)']\n",
    "df_BTC = pd.DataFrame(response_BTC)\n",
    "df_BTC = df_BTC.T\n",
    "df_BTC.reset_index(level = 0, inplace=True)\n",
    "\n",
    "df_BTC = df_BTC.drop(['1b. open (USD)', '2a. high (SGD)', '2b. high (USD)', '3a. low (SGD)', '3b. low (USD)', '4a. close (SGD)', '4b. close (USD)', '5. volume', '6. market cap (USD)'], axis=1)\n",
    "df_BTC.columns = ['Date', 'Open (BTC)']\n",
    "df_BTC.Date = pd.to_datetime(df_BTC.Date, format = '%Y/%m/%d')\n",
    "df_BTC['Open (BTC)'] = df_BTC['Open (BTC)'].astype(float)"
   ]
  },
  {
   "cell_type": "code",
   "execution_count": null,
   "metadata": {},
   "outputs": [],
   "source": [
    "df_BTC"
   ]
  },
  {
   "cell_type": "code",
   "execution_count": null,
   "metadata": {},
   "outputs": [],
   "source": [
    "df_Doge"
   ]
  },
  {
   "cell_type": "markdown",
   "metadata": {},
   "source": [
    "### Let's Concat BTC & Doge "
   ]
  },
  {
   "cell_type": "code",
   "execution_count": null,
   "metadata": {},
   "outputs": [],
   "source": [
    "# Drop Doge Date col first\n",
    "# Join both of them into one df\n",
    "joint_df = pd.concat([df_BTC, df_Doge.drop(['Date'], axis=1)], axis=1)\n",
    "joint_df.info()"
   ]
  },
  {
   "cell_type": "code",
   "execution_count": null,
   "metadata": {},
   "outputs": [],
   "source": [
    "joint_df.isna().sum()"
   ]
  },
  {
   "cell_type": "code",
   "execution_count": null,
   "metadata": {},
   "outputs": [],
   "source": [
    "# Drop null val\n",
    "joint_df = joint_df.dropna()\n",
    "joint_df.isna().sum()"
   ]
  },
  {
   "cell_type": "code",
   "execution_count": null,
   "metadata": {},
   "outputs": [],
   "source": [
    "joint_df.head()"
   ]
  },
  {
   "cell_type": "code",
   "execution_count": null,
   "metadata": {},
   "outputs": [],
   "source": [
    "# Reverse the dates, reset index\n",
    "joint_df = joint_df.iloc[::-1]\n",
    "joint_df = joint_df.reset_index(drop=True)"
   ]
  },
  {
   "cell_type": "code",
   "execution_count": null,
   "metadata": {},
   "outputs": [],
   "source": [
    "joint_df"
   ]
  },
  {
   "cell_type": "markdown",
   "metadata": {},
   "source": [
    "### Let's do some EDA!"
   ]
  },
  {
   "cell_type": "code",
   "execution_count": null,
   "metadata": {},
   "outputs": [],
   "source": [
    "joint_df.describe()"
   ]
  },
  {
   "cell_type": "markdown",
   "metadata": {},
   "source": [
    "Here, we can see the central tendencies of the variables we are interested in!"
   ]
  },
  {
   "cell_type": "markdown",
   "metadata": {},
   "source": [
    "#### We shall plot these variables onto a line plot to better visualize the data!"
   ]
  },
  {
   "cell_type": "code",
   "execution_count": null,
   "metadata": {},
   "outputs": [],
   "source": [
    "'''\n",
    "var: accept col of df -> y axis of timeseries\n",
    "color: accept str\n",
    "'''\n",
    "\n",
    "def timeSeriesPlot(var, color=None):\n",
    "    plt.figure(figsize=(24,12))\n",
    "    plt.plot(joint_df['Date'], var, color=color)\n",
    "    ax = plt.gca()\n",
    "    ax.xaxis.set_major_locator(mdates.MonthLocator(interval=1))\n",
    "    ax.xaxis.set_major_formatter(mdates.DateFormatter(\"%d-%m-%y\"))\n",
    "    plt.gcf().autofmt_xdate()\n",
    "    plt.show()"
   ]
  },
  {
   "cell_type": "code",
   "execution_count": null,
   "metadata": {},
   "outputs": [],
   "source": [
    "timeSeriesPlot(joint_df['Open (BTC)'])"
   ]
  },
  {
   "cell_type": "code",
   "execution_count": null,
   "metadata": {
    "scrolled": false
   },
   "outputs": [],
   "source": [
    "timeSeriesPlot(joint_df['Open (Doge)'], 'r')"
   ]
  },
  {
   "cell_type": "markdown",
   "metadata": {},
   "source": [
    "For now, we can only plot them separately as the differences in **Bitcoin** and **Dogecoin** are `EXTREMELY LARGE`... <br>\n",
    "In order to visualize both of them together, we first need to `normalize` them."
   ]
  },
  {
   "cell_type": "markdown",
   "metadata": {},
   "source": [
    "### Let's Normalize the Data!"
   ]
  },
  {
   "cell_type": "markdown",
   "metadata": {},
   "source": [
    "We will normalize the data using the the `MinMaxScaler` function from `sklearn`!"
   ]
  },
  {
   "cell_type": "code",
   "execution_count": null,
   "metadata": {},
   "outputs": [],
   "source": [
    "joint_df2 = joint_df.drop(['Date'], axis=1)\n",
    "joint_df2 = joint_df2.reset_index(drop=True)\n",
    "joint_df2.head()"
   ]
  },
  {
   "cell_type": "code",
   "execution_count": null,
   "metadata": {},
   "outputs": [],
   "source": [
    "# Data Prep\n",
    "BTC_T = joint_df2.drop(['Open (Doge)'], axis=1)\n",
    "Doge_T = joint_df2.drop(['Open (BTC)'], axis=1)\n",
    "BTC_T = BTC_T.values\n",
    "Doge_T = Doge_T.values\n",
    "\n",
    "# Normalizing\n",
    "scaler = MinMaxScaler(feature_range=(0,1))\n",
    "BTC_T = scaler.fit_transform(BTC_T)\n",
    "BTC_T = pd.DataFrame(BTC_T, columns=['BTC_Norm'])\n",
    "\n",
    "Doge_T = scaler.fit_transform(Doge_T)\n",
    "Doge_T = pd.DataFrame(Doge_T, columns=['Doge_Norm'])"
   ]
  },
  {
   "cell_type": "code",
   "execution_count": null,
   "metadata": {},
   "outputs": [],
   "source": [
    "joint_df2 = pd.concat([joint_df, BTC_T, Doge_T], axis=1)"
   ]
  },
  {
   "cell_type": "code",
   "execution_count": null,
   "metadata": {},
   "outputs": [],
   "source": [
    "joint_df2"
   ]
  },
  {
   "cell_type": "markdown",
   "metadata": {},
   "source": [
    "Now that the data is normalized, we can plot them on the same graph!"
   ]
  },
  {
   "cell_type": "code",
   "execution_count": null,
   "metadata": {
    "scrolled": false
   },
   "outputs": [],
   "source": [
    "plt.figure(figsize=(24,12))\n",
    "sb.lineplot(x=joint_df2['Date'], y=joint_df2['BTC_Norm'], color='green', label='BTC')\n",
    "sb.lineplot(x=joint_df2['Date'], y=joint_df2['Doge_Norm'], color='orange', label='Doge')\n",
    "ax = plt.gca()\n",
    "ax.xaxis.set_major_locator(mdates.MonthLocator(interval=1))\n",
    "ax.xaxis.set_major_formatter(mdates.DateFormatter(\"%d-%m-%y\"))\n",
    "plt.gcf().autofmt_xdate()\n",
    "plt.show()"
   ]
  },
  {
   "cell_type": "code",
   "execution_count": null,
   "metadata": {},
   "outputs": [],
   "source": [
    "joint_df2.describe()"
   ]
  },
  {
   "cell_type": "markdown",
   "metadata": {},
   "source": [
    "### We will use LSTM to predict for our model"
   ]
  },
  {
   "cell_type": "markdown",
   "metadata": {},
   "source": [
    "We will try to predict Bitcoin first..."
   ]
  },
  {
   "cell_type": "code",
   "execution_count": null,
   "metadata": {},
   "outputs": [],
   "source": [
    "BTC = joint_df.drop(['Date', 'Open (Doge)'], axis=1)"
   ]
  },
  {
   "cell_type": "code",
   "execution_count": null,
   "metadata": {},
   "outputs": [],
   "source": [
    "scaler = MinMaxScaler(feature_range=(0,1))\n",
    "BTC_T = BTC.values\n",
    "BTC_T = scaler.fit_transform(BTC_T)"
   ]
  },
  {
   "cell_type": "markdown",
   "metadata": {},
   "source": [
    "### Train/Test Split"
   ]
  },
  {
   "cell_type": "markdown",
   "metadata": {},
   "source": [
    "We split our model into 80% train data and 20% test data"
   ]
  },
  {
   "cell_type": "code",
   "execution_count": null,
   "metadata": {},
   "outputs": [],
   "source": [
    "# 80 - 20 split\n",
    "train_size = int(len(BTC_T) * 0.8)\n",
    "test_size = int(len(BTC_T) - train_size)\n",
    "train, test = BTC_T[0:train_size,:], BTC_T[train_size:len(BTC_T),:]"
   ]
  },
  {
   "cell_type": "code",
   "execution_count": null,
   "metadata": {},
   "outputs": [],
   "source": [
    "def create_features(data, look_back):\n",
    "    X, Y = [], []\n",
    "    for i in range(len(data) - look_back - 1):\n",
    "        window = data[i:(i + look_back), 0]\n",
    "        X.append(window)\n",
    "        Y.append(data[i + look_back, 0])\n",
    "    return np.array(X), np.array(Y)"
   ]
  },
  {
   "cell_type": "markdown",
   "metadata": {},
   "source": [
    "Here, we reshape the train & test sets into the format that is accepted by the LSTM function."
   ]
  },
  {
   "cell_type": "code",
   "execution_count": null,
   "metadata": {},
   "outputs": [],
   "source": [
    "look_back = 1\n",
    "X_train, Y_train = create_features(train, look_back)\n",
    "X_test, Y_test = create_features(test, look_back)\n",
    "\n",
    "X_train = np.reshape(X_train, (X_train.shape[0], 1, X_train.shape[1]))\n",
    "X_test = np.reshape(X_test, (X_test.shape[0], 1, X_test.shape[1]))"
   ]
  },
  {
   "cell_type": "code",
   "execution_count": null,
   "metadata": {},
   "outputs": [],
   "source": [
    "# Import Essential Libs\n",
    "import tensorflow as tf\n",
    "from keras.models import Sequential\n",
    "from keras.layers import Dense\n",
    "from keras.layers import LSTM\n",
    "from keras.layers import Dropout\n",
    "from keras.callbacks import ModelCheckpoint"
   ]
  },
  {
   "cell_type": "code",
   "execution_count": null,
   "metadata": {},
   "outputs": [],
   "source": [
    "# Set seed\n",
    "tf.random.set_seed(11)\n",
    "np.random.seed(11)"
   ]
  },
  {
   "cell_type": "markdown",
   "metadata": {},
   "source": [
    "We set the parameters for the model. The dropout is used to reduce overfitting. Batch size is set to 30, to train based on the previous 30 days data as BTC runs 24/7."
   ]
  },
  {
   "cell_type": "code",
   "execution_count": null,
   "metadata": {},
   "outputs": [],
   "source": [
    "# Build Model\n",
    "model = Sequential()\n",
    "\n",
    "model.add(LSTM(units = 2000, activation = 'relu', \n",
    "               input_shape = (X_train.shape[1], look_back)))\n",
    "\n",
    "model.add(Dropout(0.2))\n",
    "\n",
    "model.add(Dense(1, activation = 'linear'))\n",
    "\n",
    "model.compile(loss = 'mean_squared_error', optimizer = 'adam')"
   ]
  },
  {
   "cell_type": "code",
   "execution_count": null,
   "metadata": {
    "scrolled": true
   },
   "outputs": [],
   "source": [
    "filepath = 'saved_models_btc/model_epoch_{epoch:02d}.hdf5'\n",
    "\n",
    "checkpoint = ModelCheckpoint(filepath = filepath,\n",
    "                             monitor = 'val_loss',\n",
    "                             verbose = 1,\n",
    "                             save_best_only = True,\n",
    "                             mode ='min'\n",
    "                            )\n",
    "\n",
    "history = model.fit(X_train, Y_train, epochs = 100, batch_size = 24, validation_data = (X_test, Y_test), \n",
    "                    callbacks = [checkpoint], \n",
    "                    verbose = 1, shuffle = False)\n",
    "\n",
    "model.summary()"
   ]
  },
  {
   "cell_type": "code",
   "execution_count": null,
   "metadata": {
    "scrolled": false
   },
   "outputs": [],
   "source": [
    "from keras.models import load_model\n",
    "\n",
    "best_model = load_model('saved_models_btc\\model_epoch_19.hdf5')\n",
    "# Predicting and inverse transforming the predictions\n",
    "\n",
    "train_predict = best_model.predict(X_train)\n",
    "\n",
    "Y_hat_train = scaler.inverse_transform(train_predict)\n",
    "\n",
    "test_predict = best_model.predict(X_test)\n",
    "\n",
    "Y_hat_test = scaler.inverse_transform(test_predict)\n",
    "\n",
    "# Inverse transforming the actual values, to return them to their original values\n",
    "Y_test = scaler.inverse_transform([Y_test])\n",
    "Y_train = scaler.inverse_transform([Y_train])"
   ]
  },
  {
   "cell_type": "code",
   "execution_count": null,
   "metadata": {},
   "outputs": [],
   "source": [
    "Y_hat_train = np.reshape(Y_hat_train, newshape = Y_hat_train.shape)\n",
    "Y_hat_test = np.reshape(Y_hat_test, newshape = Y_hat_test.shape)\n",
    "\n",
    "Y_train = np.reshape(Y_train, newshape = Y_hat_train.shape)\n",
    "Y_test = np.reshape(Y_test, newshape = Y_hat_test.shape)"
   ]
  },
  {
   "cell_type": "markdown",
   "metadata": {},
   "source": [
    "It can be expected that the RMSE of the train & test sets to be high as Cryptocurrencies are extremely volatile and unpredictable..."
   ]
  },
  {
   "cell_type": "code",
   "execution_count": null,
   "metadata": {},
   "outputs": [],
   "source": [
    "from sklearn.metrics import mean_squared_error\n",
    "\n",
    "train_RMSE = np.sqrt(mean_squared_error(Y_train, Y_hat_train))\n",
    "\n",
    "test_RMSE = np.sqrt(mean_squared_error(Y_test, Y_hat_test))\n",
    "\n",
    "print('Train RMSE is: ')\n",
    "print(train_RMSE, '\\n')\n",
    "print('Test RMSE is: ')\n",
    "print(test_RMSE)"
   ]
  },
  {
   "cell_type": "code",
   "execution_count": null,
   "metadata": {},
   "outputs": [],
   "source": [
    "Y = np.append(Y_train, Y_test)\n",
    "Y_hat = np.append(Y_hat_train, Y_hat_test)"
   ]
  },
  {
   "cell_type": "code",
   "execution_count": null,
   "metadata": {},
   "outputs": [],
   "source": [
    "result_df = pd.DataFrame()\n",
    "\n",
    "result_df['Actual_Y'] = Y\n",
    "result_df['Predicted_Y'] = Y_hat\n",
    "\n",
    "result_df"
   ]
  },
  {
   "cell_type": "code",
   "execution_count": null,
   "metadata": {},
   "outputs": [],
   "source": [
    "plt.figure(figsize=(24,12))\n",
    "sb.lineplot(x=np.arange(0, len(result_df), 1), y=result_df['Actual_Y'], color='blue', label='Actual_Y')\n",
    "sb.lineplot(x=np.arange(0, len(result_df), 1), y=result_df['Predicted_Y'], color='orange', label='Predicted_Y')\n",
    "# ax = plt.gca()\n",
    "# ax.xaxis.set_major_locator(mdates.MonthLocator(interval=1))\n",
    "# ax.xaxis.set_major_formatter(mdates.DateFormatter(\"%d-%m-%y\"))\n",
    "# plt.gcf().autofmt_xdate()\n",
    "# plt.show()"
   ]
  },
  {
   "cell_type": "markdown",
   "metadata": {},
   "source": [
    "From the results, we can see that the predicted values trend follows the actual values. However, at certain points in time, the model is overestimating/underestimating the intrinsic value of BTC."
   ]
  },
  {
   "cell_type": "code",
   "execution_count": null,
   "metadata": {},
   "outputs": [],
   "source": []
  }
 ],
 "metadata": {
  "kernelspec": {
   "display_name": "Data_Science",
   "language": "python",
   "name": "data_science"
  },
  "language_info": {
   "codemirror_mode": {
    "name": "ipython",
    "version": 3
   },
   "file_extension": ".py",
   "mimetype": "text/x-python",
   "name": "python",
   "nbconvert_exporter": "python",
   "pygments_lexer": "ipython3",
   "version": "3.6.13"
  }
 },
 "nbformat": 4,
 "nbformat_minor": 4
}
